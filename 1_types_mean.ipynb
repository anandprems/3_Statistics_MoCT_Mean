{
 "cells": [
  {
   "cell_type": "markdown",
   "metadata": {},
   "source": [
    "# Types of Mean"
   ]
  },
  {
   "cell_type": "code",
   "execution_count": 1,
   "metadata": {},
   "outputs": [
    {
     "name": "stdout",
     "output_type": "stream",
     "text": [
      "Mean =  4.5\n"
     ]
    }
   ],
   "source": [
    "#Calculating the Mean\n",
    "\n",
    "#Import required libraries:\n",
    "from statistics import mean\n",
    "\n",
    "#Data:\n",
    "X = [1,2,3,4,5,6,7,8,9,0]\n",
    "\n",
    "#Finding mean:\n",
    "print(\"Mean = \",mean(X))"
   ]
  },
  {
   "cell_type": "code",
   "execution_count": 2,
   "metadata": {},
   "outputs": [
    {
     "name": "stdout",
     "output_type": "stream",
     "text": [
      "Weighted Mean =  5.714285714285714\n"
     ]
    }
   ],
   "source": [
    "#Calculating the Weighted Mean\n",
    "\n",
    "#Import required libraries:\n",
    "import  numpy as np\n",
    "\n",
    "#Data:\n",
    "X = [2,4,6,8,10]\n",
    "\n",
    "#Weight:\n",
    "Y = [1,2,2,1,1]\n",
    "\n",
    "#Finding weighted mean:\n",
    "print(\"Weighted Mean = \",np.average(X,weights=Y))"
   ]
  },
  {
   "cell_type": "code",
   "execution_count": 3,
   "metadata": {},
   "outputs": [
    {
     "name": "stdout",
     "output_type": "stream",
     "text": [
      "Geometric Mean = 26.051710846973528\n"
     ]
    }
   ],
   "source": [
    "#Calculating the Geometric Mean\n",
    "\n",
    "#Import required libraries:\n",
    "from scipy import stats\n",
    "\n",
    "#Data:\n",
    "X = [10,20,30,40,50]\n",
    "\n",
    "#Finding Geometric Mean:\n",
    "print(\"Geometric Mean =\",stats.gmean(X))"
   ]
  },
  {
   "cell_type": "code",
   "execution_count": 4,
   "metadata": {},
   "outputs": [
    {
     "name": "stdout",
     "output_type": "stream",
     "text": [
      "Harmonic Mean = 15.48862937922557\n"
     ]
    }
   ],
   "source": [
    "#Calculating the Harmonic Mean \n",
    "\n",
    "#Import required libraries:\n",
    "from statistics import harmonic_mean\n",
    "\n",
    "#Data:\n",
    "X = [20,18,16,14,12]\n",
    "\n",
    "#Finding harmonic mean:\n",
    "print(\"Harmonic Mean =\",harmonic_mean(X))"
   ]
  },
  {
   "cell_type": "code",
   "execution_count": 12,
   "metadata": {},
   "outputs": [
    {
     "name": "stdout",
     "output_type": "stream",
     "text": [
      "Harmonic Mean = 18.11863391252247\n",
      "Arithematic Mean= 33.333333333333336\n"
     ]
    }
   ],
   "source": [
    "#Calculating the Harmonic Mean with outlier\n",
    "\n",
    "#Import required libraries:\n",
    "from statistics import harmonic_mean\n",
    "\n",
    "#Data:\n",
    "X = [20,18,16,14,12,120]\n",
    "\n",
    "#Finding harmonic mean:\n",
    "print(\"Harmonic Mean =\",harmonic_mean(X))\n",
    "print(\"Arithematic Mean=\", np.mean(X))"
   ]
  },
  {
   "cell_type": "code",
   "execution_count": 7,
   "metadata": {},
   "outputs": [
    {
     "name": "stdout",
     "output_type": "stream",
     "text": [
      "[['red']\n",
      " ['green']\n",
      " ['blue']]\n",
      "[[2.]\n",
      " [1.]\n",
      " [0.]]\n"
     ]
    }
   ],
   "source": [
    "#Calculating the Categorical data Mean \n",
    "\n",
    "from numpy import asarray\n",
    "from sklearn.preprocessing import OrdinalEncoder\n",
    "# define data\n",
    "data = asarray([['red'], ['green'], ['blue']])\n",
    "print(data)\n",
    "# define ordinal encoding\n",
    "encoder = OrdinalEncoder()\n",
    "# transform data\n",
    "result = encoder.fit_transform(data)\n",
    "print(result)"
   ]
  },
  {
   "cell_type": "code",
   "execution_count": 8,
   "metadata": {},
   "outputs": [
    {
     "name": "stdout",
     "output_type": "stream",
     "text": [
      "1.0\n"
     ]
    }
   ],
   "source": [
    "print(np.mean(result))"
   ]
  }
 ],
 "metadata": {
  "kernelspec": {
   "display_name": "Python 3",
   "language": "python",
   "name": "python3"
  },
  "language_info": {
   "codemirror_mode": {
    "name": "ipython",
    "version": 3
   },
   "file_extension": ".py",
   "mimetype": "text/x-python",
   "name": "python",
   "nbconvert_exporter": "python",
   "pygments_lexer": "ipython3",
   "version": "3.8.3"
  }
 },
 "nbformat": 4,
 "nbformat_minor": 4
}
